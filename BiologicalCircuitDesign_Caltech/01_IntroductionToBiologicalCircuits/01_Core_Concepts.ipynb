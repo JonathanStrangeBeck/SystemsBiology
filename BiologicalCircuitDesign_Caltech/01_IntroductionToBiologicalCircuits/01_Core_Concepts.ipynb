{
 "cells": [
  {
   "cell_type": "markdown",
   "metadata": {},
   "source": [
    "# 1. Introduction to biological circuit design\n",
    "\n",
    "<hr>"
   ]
  },
  {
   "cell_type": "markdown",
   "metadata": {},
   "source": [
    "**Concepts**\n",
    "\n",
    "- Biological circuits are sets of interacting molecular or cellular components that implement and control cellular behaviors. \n",
    "- Circuit design principles relate a feature of a circuit to the function it provides for the cell. They often take the form *Feature X enables Function Y*. \n",
    "- Design principles can help explain why and when one circuit design or architecture would be preferred over another.  \n",
    "- A simple design question is when to use positive activation or negative repression to regulate a gene. \n",
    "\n",
    "**Techniques**\n",
    "\n",
    "- Ordinary differential equations for protein production and removal allow analysis of simple gene expression processes.\n",
    "- Separation of time-scales simplifies circuit analysis.\n",
    "- Gene regulation circuits can be analyzed in terms of binding of activators and repressors to binding sites in the promoter region.\n",
    "- Executable Jupyter notebooks (like this one) enable interactive exploration of key concepts.\n"
   ]
  },
  {
   "cell_type": "markdown",
   "metadata": {
    "tags": [
     "remove_cell"
    ]
   },
   "source": [
    "<hr>"
   ]
  },
  {
   "cell_type": "markdown",
   "metadata": {},
   "source": [
    "### What is a biological circuit?\n",
    "\n",
    "We will consider two levels of biological circuitry: \n",
    "\n",
    "![molecular_circuit_schematic](Circuits.png)\n",
    "\n",
    "**Molecular circuits** consist of molecular species (genes, proteins, etc.) that interact with, and regulate, one another in specific ways. For example, a given gene can be transcribed to produce a corresponding mRNA, which can in turn be translated to produce a specific protein. That protein may be a repressor that turns off expression of a different gene, or even its own gene. Similarly, a protein kinase may phosphorylate a specific target protein, altering its ability to catalyze a reaction or modify another protein. The molecular specificity of these interactions—analogous to wires in electronics—is the key property that enables them to form molecular circuits. Molecular circuits represent a fascinating level of cellular organization, midway between the inanimate chemistry of molecules, and the fully \"alive\" state of a complete cell. \n",
    "\n",
    "One level up, we will also consider **cell circuits**. In this case, cells in different states, of different types, or even from different species signal to one another to control each other's growth, death, proliferation, and differentiation. The key variables in these circuits are the population sizes and spatial arrangements of each type of cell. For example, in the immune system, different cell types influence each other's proliferation and differentiation through cytokines and other signals, forming a collection of complex, interconnected cell circuits.\n",
    "\n",
    "The two levels are not independent. The behavior of each cell type within a cell circuit is determined by the structure of its  molecular circuits. "
   ]
  },
  {
   "cell_type": "markdown",
   "metadata": {},
   "source": [
    "At both levels, as we explore different circuits, we will approach them from a **design** point of view, seeking to understand the tradeoffs among alternative circuit designs, and looking for **design principles** that explain why and in what context one design might be preferred over another. These design principles can help to make sense of an otherwise bewildering space of potential circuits. \n",
    "\n",
    "There are several wonderful aspects to working at the circuit level: First, circuits are particularly amenable to  experimental analysis. If we want to know how one element of a circuit, whether a protein or a cell type, affects another, we can directly perturb it and observe the responses of other components. In other words, we can play with circuits. Second, circuits can be engineered. We can design and construct many different synthetic circuits from a handful of components and compare their behavior. This provides a way to experimentally explore the behavior of different circuit designs, even those that do not occur naturally, directly within living cells. Third, circuits can be modeled. Once we know how a set of components behave, we can generate testable predictions for how circuits comprised of those components ought to behave. Thus, circuits are an arena in which analysis, synthesis, and modeling come together in a beautiful way. "
   ]
  },
  {
   "cell_type": "markdown",
   "metadata": {},
   "source": [
    "### Biological circuits differ from many other types of circuits or circuit-like systems\n",
    "\n",
    "Is biological circuit design a solved problem? Electronics, software, plumbing, construction, and other human designed systems are based on connections between modular components (see Figure). Can we not just apply known principles of those systems biological circuits? The answer is generally \"no,\" or \"only a little,\" because biological systems differ in fundamental ways from these systems:\n",
    "\n",
    "* Natural circuits were not designed by people. They evolved. That means they are not \"well-documented\" and their function(s) are often unclear.\n",
    "* Even synthetic circuits, which are designed by people, often use evolved components (such as proteins or protein domains) from natural proteins, which we do not fully understand.\n",
    "* Biological circuits use different designs than many human-engineered circuits. For example, in cells, molecular components often appear to exhibit extensive networks of promiscuous interactions (\"crosstalk\") among their components, which are typically avoided in electronics, where connections are more limited. As we will see, these promiscuous interactions can provide critical capabilities.\n",
    "* Noise: While electronic circuits can function deterministically, biological circuits  function with high levels of stochastic (random) fluctuations, or \"noise,\" in their own components. Noise is not just a nuisance: some biological circuits take advantage of it to enable behaviors that would not be possible without it!\n",
    "<!-- * Biological circuits use parallelism: The same circuit can operate in many different genetically identical individual cells, whether in a bacterial population or in a multicellular organism. -->\n",
    "* Electrical systems use positive or negative voltages and currents, allowing for positive or negative effects. By contrast, biological circuits are built out of molecules (or cells) whose concentrations cannot be negative. That means they must use other mechanisms for \"inverting\" activities.\n",
    "* From a more practical point of view, we have a very limited ability to construct, test, and compare designs. Even with recent developments such as CRISPR, our ability to rapidly and precisely produce cells with well-defined genomes remains limited compared to what is possible in more advanced disciplines. (This situation is rapidly improving!)\n",
    "* *What other fundamental differences between biological circuits and human designed systems can you think of?* "
   ]
  },
  {
   "cell_type": "markdown",
   "metadata": {},
   "source": [
    "## Developing intuition: Steady state expression levels depend on protein production and removal rates.\n",
    "\n",
    "\n",
    "We will look at the simplest possible circuit, a single gene coding a single protein expressed at a constant level.This minimal example will allow us to develop intuition for the dynamics of the simplest gene regulation systems and lay out a procedure that we can further extend to analyze more complex circuits. \n",
    "\n",
    "How much protein will the gene *x* produce? We assume that the gene will be transcribed to mRNA and those mRNA molecules will in turn be translated to produce proteins, such that new proteins are produced at a total rate $\\beta$ molecules per unit time. The $x$ protein does not simply accumulate over time. It is also removed both through active degradation as well as dilution as cells grow and divide. For simplicity, we will assume that both processes tend to reduce protein concentrations through a simple first-order process, with a rate constant $\\gamma$. (The removal rate is proportional to $x$ because it refers to a process in which each protein molecule has a constant rate of removal -- the more molecules are present, the more are removed in any given time interval.)\n",
    "\n",
    "The approach we are taking can be described as \"phenomenological modeling.\" We do not explicitly represent every underlying molecular step. Instead, we assume those steps give rise to \"coarse grained\" relationships that we can model in a manner that is independent of many underlying molecular details. The test of this approach is whether it allows us to understand and experimentally predict the behavior of real biological systems. See [Wikipedia's article on phenomenological models](https://en.wikipedia.org/wiki/Phenomenological_model) and Jeremy Gunawardena's thoughtful article ([Gunawardena, 2014](#gunawardena_2014)) for insights and commentary.\n",
    "\n",
    "Thus, we can draw a diagram of our simple gene, *x*, with its protein being produced at a constant rate, and each protein molecule having a constant rate of removal (dashed circle), representing both degradation and  dilution: \n",
    "\n",
    "<div style=\"width: 250px; margin: auto;\">\n",
    "\n",
    "![simplest_protein](simplest_protein.png)\n",
    "\n",
    "</div>\n",
    "\n",
    "We can then write down a simple ordinary differential equation describing these dynamics:\n",
    "\n",
    "\\begin{align} \n",
    "&\\frac{dx}{dt} = \\mathrm{production - (degradation+dilution)} \\\\[1em]\n",
    "&\\frac{dx}{dt} = \\beta - \\gamma x\n",
    "\\end{align}\n",
    "\n",
    "where \n",
    "\n",
    "\\begin{align}\n",
    "\\gamma = \\gamma_\\mathrm{dilution} + \\gamma_\\mathrm{degradation}\n",
    "\\end{align}\n",
    "\n",
    "*A note on effective degradation rates*: When cells are growing, protein is removed through both  degradation and dilution. For stable proteins, dilution dominates. For very unstable proteins, whose half-life is much smaller than the cell cycle period, dilution may be negligible. In bacteria, mRNA half-lives (1-10 min, typically) are much shorter than protein half-lives. In eukaryotic cells this is not necessarily true. For example, in mammalian cells, mRNA half-lives can be many hours.\n",
    "\n",
    "Often, one of the first things we would like to know is the concentration of protein under steady state conditions. To obtain this, we set the time derivative to 0, and solve:\n",
    "\n",
    "\\begin{align}\n",
    "&\\frac{dx}{dt} = \\beta - \\gamma x = 0 \\\\[1em]\n",
    "&\\Rightarrow x_\\mathrm{ss} = \\beta / \\gamma \n",
    "\\end{align}\n",
    "\n",
    "In other words, the steady-state protein concentration is proportional to the ratio of production and removal rates. It can be increased either by increasing the production rate or by slowing the removal rate. "
   ]
  },
  {
   "cell_type": "markdown",
   "metadata": {
    "jp-MarkdownHeadingCollapsed": true,
    "tags": []
   },
   "source": [
    "### Including transcription and translation as separate steps \n",
    "\n",
    "So far, our description does not distinguish between two key steps in gene expression: transcription and translation. Considering the two processes separately can be important in dynamic and stochastic contexts, including some we will encounter later. To do so, we can simply add an additional variable to represent the mRNA concentration, which is now transcribed, translated to protein, and degraded (and diluted), as shown schematically here:\n",
    "\n",
    "<div style=\"width: 350px; margin: auto;\">\n",
    "\n",
    "![transcript_and_translation](transcription_and_translation.png)\n",
    "\n",
    "</div>\n",
    "\n",
    "NOTE: There is a mistake in the figure, It should be YmM not YmX.  \n",
    "These reactions can be described by two coupled differential equations for the mRNA ($m$) and protein ($x$) concentrations:\n",
    "\n",
    "\\begin{align}\n",
    "&\\frac{dm}{dt} = \\beta_m - \\gamma_m m, \\\\[1em]\n",
    "&\\frac{dx}{dt} = \\beta_p m - \\gamma_p x. \n",
    "\\end{align}\n",
    "\n",
    "To determine the steady state mRNA and protein concentrations, we set both time derivatives to 0 and solve. Doing this, we find:\n",
    "\n",
    "\\begin{align}\n",
    "&m_\\mathrm{ss} = \\beta_m / \\gamma_m, \\\\[1em]\n",
    "&x_\\mathrm{ss} = \\frac{\\beta_p m_\\mathrm{ss}}{\\gamma_p} = \\frac{\\beta_p \\beta_m}{\\gamma_p \\gamma_m}.\n",
    "\\end{align}\n",
    "\n",
    "From this, we see that the steady state protein concentration is proportional to the product of the two synthesis rates and inversely proportional to the product of the two degradation rates. \n",
    "\n",
    "And this gives us our first **design question**, which you can explore in an end-of-chapter problem: The cell could control protein expression level in at least four different ways. It could modulate any or all of (1) transcription, (2) translation, (3) mRNA degradation, or (4) protein degradation rates, or combinations thereof. Are there tradeoffs between these different options? Are they all used indiscriminately or is one favored in natural contexts? "
   ]
  },
  {
   "cell_type": "markdown",
   "metadata": {},
   "source": [
    "## Repressors enable gene regulation\n",
    "\n",
    "In principle, genes could be left \"on\" all the time. In actuality, the cell activity regulates them, turning their expression levels lower or higher depending on environmental conditions and cellular state. **Repressors** provide a key mechanism for regulation. Repressors are proteins that bind to specific, cognate sequences (binding sites) at or near a promoter, altering its expression. Often the strength of repressor binding depends on external inputs. For example, the LacI repressor normally turns off the genes for lactose utilization in *E. coli*. However, in the presence of lactose in the media, a modified form of lactose (allolactose) binds to LacI, inhibiting its ability to repress its target genes. (Small molecules that bind to proteins and alter their activities are called **allosteric effectors** or, in contexts like this, **inducers**). Thus, in this relatively simple circuit, a nutrient (lactose) regulates expression of the genes that allow its metabolism. (A wonderful book, [*The lac Operon*](#muller-hill_1996) by Benno Müller-Hill, provides the fascinating scientific and historical saga of this paradigmatic system.)\n",
    "\n",
    "In the following diagram, we label the repressor R.\n",
    "\n",
    "\n",
    "![](Repressor.png)\n",
    "\n",
    "Within the cell, the repressor can bind to, and unbind from, its target site. The expression level of the gene is lower when the repressor is bound and higher when it is unbound. The mean expression level of the gene is then proportional to the fraction of time that the promoter region is not bound with a repressor.\n",
    "\n",
    "The process of binding and unbinding of a repressor can be represented as the chemical reaction\n",
    "\n",
    "![](Chemical.png)\n",
    "\n",
    "We can model the dynamics of this chemical reaction using **mass action kinetics** in which the rate of a reaction is proportional to the product of the concentrations of its reactants. We therefore represent the \"concentration\" of target sites in bound or unbound states. Within a single cell an individual site on the DNA is either bound or unbound, but averaged over a population of cells, we can talk about the mean occupancy of the site. Let $r$ be the concentration of repressor, $p$ be the concentration of unbound promoter, $p_\\mathrm{bound}$ be the concentration of promoter bound with a repressor. Then,\n",
    "\n",
    "\\begin{align}\n",
    "\\frac{\\mathrm{d}p}{\\mathrm{d}t} = -k_+\\,p\\,r + k_- p_\\mathrm{bound}.\n",
    "\\end{align}\n",
    "\n",
    "We can assume a **separation of timescales** because both the rates of binding and unbinding of the repressor to the DNA binding site are often fast compared to the timescales over which mRNA and protein concentrations vary. (Note that this assumption is reasonable for many genes in bacteria, but may not apply in other contexts, such as for some mammalian genes.) On the time scale of variation in mRNA and protein concentrations, the repressor-promoter binding-unbinding reaction dynamics are fast and the reaction is essentially at steady state such that $\\mathrm{d}p/\\mathrm{d}t \\approx 0$, giving\n",
    "\n",
    "\\begin{align}\n",
    "-k_+\\,p\\,r + k_- p_\\mathrm{bound} = 0.\n",
    "\\end{align}\n",
    "\n",
    "If $p_\\mathrm{tot}$ is the total concentration of promoters, bound or not, then $p_\\mathrm{tot} = p + p_\\mathrm{bound}$, and we have\n",
    "\n",
    "\\begin{align}\n",
    "-k_+\\,p\\,r + k_- (p_\\mathrm{tot} - p) = 0,\n",
    "\\end{align}\n",
    "\n",
    "which can be rearranged to give the fraction of promoters that are free to allow transcription,\n",
    "\n",
    "\\begin{align}\n",
    "\\frac{p}{p_\\mathrm{tot}} = \\frac{1}{1+r/K_\\mathrm{d}},\n",
    "\\end{align}\n",
    "\n",
    "where we have defined the **dissociation constant** for repressor-target binding\n",
    "\n",
    "\\begin{align}\n",
    "K_\\mathrm{d} = \\frac{k_-}{k_+}\n",
    "\\end{align}\n",
    "\n",
    "Because we have a separation of time scales, the rate of production of gene product should be proportional to the probability of the promoter being unbound,\n",
    "\n",
    "\\begin{align}\n",
    "\\beta(r) = \\beta_0 \\frac{p}{p_\\mathrm{tot}} = \\frac{\\beta_0}{1+r/K_\\mathrm{d}}.\n",
    "\\end{align}"
   ]
  },
  {
   "cell_type": "markdown",
   "metadata": {},
   "source": [
    "## Properties of the simple binding curve\n",
    "\n",
    "This is our first encounter with a soon to be familiar function. Note that this function has two parameters: $K_\\mathrm{d}$ specifies the concentration of repressor at which the response is reduced to half its maximum value. The coefficient $\\beta_0$ is simply the maximum expression level, and is a parameter that multiples the rest of the function. Also notice that for small values of $r$, the slope is $-1/K_d$ "
   ]
  },
  {
   "cell_type": "code",
   "execution_count": null,
   "metadata": {},
   "outputs": [],
   "source": [
    "# Colab setup ------------------\n",
    "import os, sys, subprocess\n",
    "if \"google.colab\" in sys.modules:\n",
    "    cmd = \"pip install --upgrade watermark\"\n",
    "    process = subprocess.Popen(cmd.split(), stdout=subprocess.PIPE, stderr=subprocess.PIPE)\n",
    "    stdout, stderr = process.communicate()\n",
    "# ------------------------------\n",
    "\n",
    "import numpy as np\n",
    "import bokeh.io\n",
    "import bokeh.plotting\n",
    "\n",
    "bokeh.io.output_notebook()"
   ]
  },
  {
   "cell_type": "code",
   "execution_count": null,
   "metadata": {
    "tags": [
     "hide-input"
    ]
   },
   "outputs": [
    {
     "ename": "",
     "evalue": "",
     "output_type": "error",
     "traceback": [
      "\u001b[1;31mRunning cells with '/bin/python3' requires the ipykernel package.\n",
      "\u001b[1;31mRun the following command to install 'ipykernel' into the Python environment. \n",
      "\u001b[1;31mCommand: '/bin/python3 -m pip install ipykernel -U --user --force-reinstall'"
     ]
    }
   ],
   "source": [
    "# Build theoretical curves for dimensionless r and beta\n",
    "r = np.linspace(0, 20, 200)\n",
    "beta = 1 / (1 + r)\n",
    "init_slope = 1 - r\n",
    "\n",
    "# Build plot\n",
    "p = bokeh.plotting.figure(\n",
    "    frame_height=225,\n",
    "    frame_width=350,\n",
    "    x_axis_label=\"r/Kd\",\n",
    "    y_axis_label=\"β(r)/β₀\",\n",
    "    x_range=[r[0], r[-1]],\n",
    "    y_range=[0, 1],\n",
    ")\n",
    "p.line(r, init_slope, line_width=2, color=\"orange\", legend_label=\"initial slope\")\n",
    "p.line(r, beta, line_width=2, legend_label=\"β(r)/β₀\")\n",
    "p.legend.click_policy = \"hide\"\n",
    "p.legend[0].items = p.legend[0].items[::-1]\n",
    "\n",
    "bokeh.io.show(p)"
   ]
  },
  {
   "cell_type": "markdown",
   "metadata": {},
   "source": [
    "## Gene expression can be \"leaky\"\n",
    "\n",
    "In real life, many genes never get repressed all the way to zero expression, even when you add a lot of repressor. Instead, there is a baseline, or \"basal\", expression level that still occurs. A simple way to model this is by adding an additional constant term, $\\alpha_0$ to the expression \n",
    "\n",
    "\\begin{align}\n",
    "\\beta(R) = \\alpha_0 + \\beta_0 \\frac{p}{p_\\mathrm{tot}} = \\alpha_0 + \\frac{\\beta_0}{1+r/K_\\mathrm{d}}.\n",
    "\\end{align}\n",
    "\n",
    "Where does such leaky expression come from? Molecular interactions inside a cell are always probabilistic. Repressors are constantly binding and unbinding from their DNA target sites. Even if there are many more repressors than there are genes to repress, there is still typically a finite time interval between the unbinding and the re-binding of a repressor. During these intervals, the competing process of transcription initiation may occur. \n",
    "\n",
    "Given the ubiquity of leakiness, it is important to check that important circuit behaviors do not require the complete absence of leaky expression.\n",
    "\n",
    "\n",
    "<!--\n",
    "<div class=\"alert alert-block alert-info\">\n",
    "Potential elaboration here: where does leak come from, molecularly? Is it the fact that you never get 100% occupancy? Or is it off-target binding of polymerases? etc.\n",
    "</div>\n",
    "\n",
    "<div class=\"alert alert-block alert-info\">\n",
    "JPM: I've added some commentary in the cell above.\n",
    "</div>\n",
    "-->"
   ]
  },
  {
   "cell_type": "code",
   "execution_count": 3,
   "metadata": {
    "tags": [
     "hide-input"
    ]
   },
   "outputs": [
    {
     "data": {
      "text/html": [
       "\n",
       "  <div id=\"6645513f-0e80-4592-be0a-1bbbde79547f\" data-root-id=\"p1193\" style=\"display: contents;\"></div>\n"
      ]
     },
     "metadata": {},
     "output_type": "display_data"
    },
    {
     "data": {
      "application/javascript": "(function(root) {\n  function embed_document(root) {\n  const docs_json = {\"7ccf6a5f-7af5-4a25-be58-899036a9a395\":{\"version\":\"3.1.0\",\"title\":\"Bokeh Application\",\"defs\":[],\"roots\":[{\"type\":\"object\",\"name\":\"Figure\",\"id\":\"p1193\",\"attributes\":{\"x_range\":{\"type\":\"object\",\"name\":\"Range1d\",\"id\":\"p1202\",\"attributes\":{\"end\":20.0}},\"y_range\":{\"type\":\"object\",\"name\":\"Range1d\",\"id\":\"p1204\",\"attributes\":{\"end\":1.25}},\"x_scale\":{\"type\":\"object\",\"name\":\"LinearScale\",\"id\":\"p1206\"},\"y_scale\":{\"type\":\"object\",\"name\":\"LinearScale\",\"id\":\"p1208\"},\"title\":{\"type\":\"object\",\"name\":\"Title\",\"id\":\"p1199\"},\"renderers\":[{\"type\":\"object\",\"name\":\"GlyphRenderer\",\"id\":\"p1245\",\"attributes\":{\"data_source\":{\"type\":\"object\",\"name\":\"ColumnDataSource\",\"id\":\"p1239\",\"attributes\":{\"selected\":{\"type\":\"object\",\"name\":\"Selection\",\"id\":\"p1241\",\"attributes\":{\"indices\":[],\"line_indices\":[]}},\"selection_policy\":{\"type\":\"object\",\"name\":\"UnionRenderers\",\"id\":\"p1240\"},\"data\":{\"type\":\"map\",\"entries\":[[\"x\",[0.0,20.0]],[\"y\",[0.25,0.25]]]}}},\"view\":{\"type\":\"object\",\"name\":\"CDSView\",\"id\":\"p1246\",\"attributes\":{\"filter\":{\"type\":\"object\",\"name\":\"AllIndices\",\"id\":\"p1247\"}}},\"glyph\":{\"type\":\"object\",\"name\":\"Line\",\"id\":\"p1242\",\"attributes\":{\"x\":{\"type\":\"field\",\"field\":\"x\"},\"y\":{\"type\":\"field\",\"field\":\"y\"},\"line_color\":\"orange\",\"line_width\":2}},\"nonselection_glyph\":{\"type\":\"object\",\"name\":\"Line\",\"id\":\"p1243\",\"attributes\":{\"x\":{\"type\":\"field\",\"field\":\"x\"},\"y\":{\"type\":\"field\",\"field\":\"y\"},\"line_color\":\"orange\",\"line_alpha\":0.1,\"line_width\":2}},\"muted_glyph\":{\"type\":\"object\",\"name\":\"Line\",\"id\":\"p1244\",\"attributes\":{\"x\":{\"type\":\"field\",\"field\":\"x\"},\"y\":{\"type\":\"field\",\"field\":\"y\"},\"line_color\":\"orange\",\"line_alpha\":0.2,\"line_width\":2}}}},{\"type\":\"object\",\"name\":\"GlyphRenderer\",\"id\":\"p1256\",\"attributes\":{\"data_source\":{\"type\":\"object\",\"name\":\"ColumnDataSource\",\"id\":\"p1250\",\"attributes\":{\"selected\":{\"type\":\"object\",\"name\":\"Selection\",\"id\":\"p1252\",\"attributes\":{\"indices\":[],\"line_indices\":[]}},\"selection_policy\":{\"type\":\"object\",\"name\":\"UnionRenderers\",\"id\":\"p1251\"},\"data\":{\"type\":\"map\",\"entries\":[[\"x\",{\"type\":\"ndarray\",\"array\":{\"type\":\"bytes\",\"data\":\"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\"},\"shape\":[200],\"dtype\":\"float64\",\"order\":\"little\"}],[\"y\",{\"type\":\"ndarray\",\"array\":{\"type\":\"bytes\",\"data\":\"AAAAAAAA9D+f6Hui74nyP3hw2Rt6UvE/ssQTpB5L8D8pTNsXCtPuPwZrCV8zTO0/GiAosl726z/5jSyH38jqP8Ti7if4vOk/GdRyIlfN6D9c/279u/XnP6ZQVBK2Muc/DHs7NnWB5j8Y/DTDpt/lPxYJ8WNbS+U/wh2iLPPC5D+yOu9NDkXkP5dm+C+B0OM/ngkFG0tk4z/qes7Pjv/iP6jhkJuMoeI/woT9kZ1J4j/Kd6usL/fhPyGJRZ/CqeE/6WMxO+Vg4T9EjPNFMxzhPwbh+KtT2+A/CZdE/vad4D9vQTIt1mPgP/bTUXWxLOA/Ioks657w3z/Q+IzP+IzfP/ZE8uoSLt8/HsHoSZjT3j8FEEe0O33eP7CzA9G2Kt4/ujzKZsnb3T/W0Aa1OJDdP5/S1eHOR90/Rd7aeVoC3T/6y3z/rb/cP5RDaYeff9w/Os6VYAhC3D+UiDnGxAbcP3xBdJqzzds/UQmIKLaW2z9/rLLtr2HbP/mk1meGLts/l9U/6SD92j9KxOhwaM3aPzrBuYZHn9o/sBJNG6py2j9eVtJqfUfaP+84uOKvHdo/9MLOCTH12T/MDZ5q8c3ZP4d4tX/ip9k/KJ2+ofaC2T+EfCX3IF/ZP1q9LGVVPNk/pY9Jgoga2T/K4KaJr/nYP4ols0/A2dg/BiWfN7G62D/A9LYpeZzYP73EgIoPf9g/jECPMmxi2D8TL/dmh0bYP1CoWdJZK9g/crR1ftwQ2D8yeTXOCPfXPzRGLHjY3dc/ZNx7gUXF1z8FOhg5Sq3XPxAKYjPhldc/D5MQRgV/1z8orGSEsWjXPznXnjvhUtc/Biiz74891z9XGzZYuSjXP8fvfV1ZFNc/qHX0FWwA1z+EpZXD7ezWP/Sdl9Ha2dY/DvM40i/H1j9LfLJ86bTWP98JSqsEo9Y/eKGDWX6R1j+7E2+iU4DWPzzpD7+Bb9Y/kc7dBAZf1j/GzFvk3U7WP1W9xOcGP9Y/JYjLsX4v1j9h1m38QiDWPwb/15dREdY/yQlZaagC1j/TumVqRfTVP7atqacm5tU/YZglQErY1T+j31lkrsrVP0i2fFVRvdU/EA67ZDGw1T/croPyTKPVP2rU222iltU/Mb68UzCK1T8Gp3ku9X3VP9ijLZXvcdU/WvEwKx5m1T+sQJWff1rVP4SaqKwST9U/Knd+F9ZD1T8gsH6vyDjVPzf2+U3pLdU/O3zD1TYj1T+gi88ysBjVPzu91llUDtU/hJT9RyIE1T8GQIACGfrUP0lFYpY38NQ/QeIhGH3m1D9w8W6j6NzUPxQh5Vp509Q/lVDJZy7K1D8G6sn5BsHUPyAQwkYCuNQ/b3t/ih+v1D9+44oGXqbUPwDT8gG9ndQ/t8cYyTuV1D/HgICt2YzUP6BfoQWWhNQ/bMG5LHB81D88OKSCZ3TUP6yMrmt7bNQ/6nFyUKtk1D9O16+d9lzUP9DDKMRcVdQ/tKh+ON1N1D/eGRFzd0bUP/Ta3e8qP9Q/sTFiLvc31D9Ebn2x2zDUP6ibVP/XKdQ/ako3oesi1D8paYUjFhzUP7IelhVXFdQ/OJqfCa4O1D+6zp+UGgjUP00PRk6cAdQ/XILd0DL70z+dYji53fTTP74EnKac7tM/aZmtOm/o0z+Qo18ZVeLTP1Eb4OhN3NM/OTaHUVnW0z/vzcb9dtDTP6heGpqmytM/JZf31OfE0z82dL9eOr/TPw3ir+mdudM/6N3VKRK00z/yEgDVlq7TP0/tsaIrqdM/qB4XTNCj0z+tj/eLhJ7TP0S6qx5ImdM/OmgRwhqU0z+U0oA1/I7TP7wdwjnsidM/5i4DkeqE0z9W183+9n/TPyNS/kcRe9M/ZRG6Mjl20z/K12aGbnHTP6wboguxbNM/7LA4jABo0z/tth7TXGPTPy7IZ6zFXtM/Dmk/5Tpa0z9zs+FLvFXTPxU9lK9JUdM/VTaf4OJM0z+Fv0awh0jTP8VyxPA3RNM/dyBBdfM/0z+bvM4RujvTPz97YpuLN9M/cRrP52cz0z8GWL/NTi/TP72RsCRAK9M/S47txDsn0z/ObYmHQSPTP2zAWkZRH9M/vMH222ob0z+4t6wjjhfTPxh0gfm6E9M/1PYqOvEP0z/DMAzDMAzTPw==\"},\"shape\":[200],\"dtype\":\"float64\",\"order\":\"little\"}]]}}},\"view\":{\"type\":\"object\",\"name\":\"CDSView\",\"id\":\"p1257\",\"attributes\":{\"filter\":{\"type\":\"object\",\"name\":\"AllIndices\",\"id\":\"p1258\"}}},\"glyph\":{\"type\":\"object\",\"name\":\"Line\",\"id\":\"p1253\",\"attributes\":{\"x\":{\"type\":\"field\",\"field\":\"x\"},\"y\":{\"type\":\"field\",\"field\":\"y\"},\"line_color\":\"#1f77b4\",\"line_width\":2}},\"nonselection_glyph\":{\"type\":\"object\",\"name\":\"Line\",\"id\":\"p1254\",\"attributes\":{\"x\":{\"type\":\"field\",\"field\":\"x\"},\"y\":{\"type\":\"field\",\"field\":\"y\"},\"line_color\":\"#1f77b4\",\"line_alpha\":0.1,\"line_width\":2}},\"muted_glyph\":{\"type\":\"object\",\"name\":\"Line\",\"id\":\"p1255\",\"attributes\":{\"x\":{\"type\":\"field\",\"field\":\"x\"},\"y\":{\"type\":\"field\",\"field\":\"y\"},\"line_color\":\"#1f77b4\",\"line_alpha\":0.2,\"line_width\":2}}}}],\"toolbar\":{\"type\":\"object\",\"name\":\"Toolbar\",\"id\":\"p1200\",\"attributes\":{\"tools\":[{\"type\":\"object\",\"name\":\"PanTool\",\"id\":\"p1224\"},{\"type\":\"object\",\"name\":\"WheelZoomTool\",\"id\":\"p1225\"},{\"type\":\"object\",\"name\":\"BoxZoomTool\",\"id\":\"p1226\",\"attributes\":{\"overlay\":{\"type\":\"object\",\"name\":\"BoxAnnotation\",\"id\":\"p1227\",\"attributes\":{\"syncable\":false,\"level\":\"overlay\",\"visible\":false,\"left_units\":\"canvas\",\"right_units\":\"canvas\",\"bottom_units\":\"canvas\",\"top_units\":\"canvas\",\"line_color\":\"black\",\"line_alpha\":1.0,\"line_width\":2,\"line_dash\":[4,4],\"fill_color\":\"lightgrey\",\"fill_alpha\":0.5}}}},{\"type\":\"object\",\"name\":\"SaveTool\",\"id\":\"p1228\"},{\"type\":\"object\",\"name\":\"ResetTool\",\"id\":\"p1229\"},{\"type\":\"object\",\"name\":\"HelpTool\",\"id\":\"p1230\"}]}},\"left\":[{\"type\":\"object\",\"name\":\"LinearAxis\",\"id\":\"p1217\",\"attributes\":{\"ticker\":{\"type\":\"object\",\"name\":\"BasicTicker\",\"id\":\"p1218\",\"attributes\":{\"mantissas\":[1,2,5]}},\"formatter\":{\"type\":\"object\",\"name\":\"BasicTickFormatter\",\"id\":\"p1220\"},\"axis_label\":\"\\u03b2(r)/\\u03b2\\u2080\",\"major_label_policy\":{\"type\":\"object\",\"name\":\"AllLabels\",\"id\":\"p1219\"}}}],\"below\":[{\"type\":\"object\",\"name\":\"LinearAxis\",\"id\":\"p1210\",\"attributes\":{\"ticker\":{\"type\":\"object\",\"name\":\"BasicTicker\",\"id\":\"p1211\",\"attributes\":{\"mantissas\":[1,2,5]}},\"formatter\":{\"type\":\"object\",\"name\":\"BasicTickFormatter\",\"id\":\"p1213\"},\"axis_label\":\"r/Kd\",\"major_label_policy\":{\"type\":\"object\",\"name\":\"AllLabels\",\"id\":\"p1212\"}}}],\"center\":[{\"type\":\"object\",\"name\":\"Grid\",\"id\":\"p1216\",\"attributes\":{\"axis\":{\"id\":\"p1210\"}}},{\"type\":\"object\",\"name\":\"Grid\",\"id\":\"p1223\",\"attributes\":{\"dimension\":1,\"axis\":{\"id\":\"p1217\"}}},{\"type\":\"object\",\"name\":\"Legend\",\"id\":\"p1248\",\"attributes\":{\"click_policy\":\"hide\",\"items\":[{\"type\":\"object\",\"name\":\"LegendItem\",\"id\":\"p1259\",\"attributes\":{\"label\":{\"type\":\"value\",\"value\":\"\\u03b2(r)/\\u03b2\\u2080\"},\"renderers\":[{\"id\":\"p1256\"}]}},{\"type\":\"object\",\"name\":\"LegendItem\",\"id\":\"p1249\",\"attributes\":{\"label\":{\"type\":\"value\",\"value\":\"basal (leaky) expression, \\u03b1\\u2080/\\u03b2\\u2080\"},\"renderers\":[{\"id\":\"p1245\"}]}}]}}],\"frame_width\":350,\"frame_height\":225}}],\"callbacks\":{\"type\":\"map\"}}};\n  const render_items = [{\"docid\":\"7ccf6a5f-7af5-4a25-be58-899036a9a395\",\"roots\":{\"p1193\":\"6645513f-0e80-4592-be0a-1bbbde79547f\"},\"root_ids\":[\"p1193\"]}];\n  root.Bokeh.embed.embed_items_notebook(docs_json, render_items);\n  }\n  if (root.Bokeh !== undefined) {\n    embed_document(root);\n  } else {\n    let attempts = 0;\n    const timer = setInterval(function(root) {\n      if (root.Bokeh !== undefined) {\n        clearInterval(timer);\n        embed_document(root);\n      } else {\n        attempts++;\n        if (attempts > 100) {\n          clearInterval(timer);\n          console.log(\"Bokeh: ERROR: Unable to run BokehJS code because BokehJS library is missing\");\n        }\n      }\n    }, 10, root)\n  }\n})(window);",
      "application/vnd.bokehjs_exec.v0+json": ""
     },
     "metadata": {
      "application/vnd.bokehjs_exec.v0+json": {
       "id": "p1193"
      }
     },
     "output_type": "display_data"
    }
   ],
   "source": [
    "# Build the theoretical curves\n",
    "r = np.linspace(0, 20, 200)\n",
    "alpha_0 = .25\n",
    "beta = alpha_0 + 1 / (1 + r)\n",
    "\n",
    "# Build plot\n",
    "p = bokeh.plotting.figure(\n",
    "    frame_height=225,\n",
    "    frame_width=350,\n",
    "    x_axis_label=\"r/Kd\",\n",
    "    y_axis_label=\"β(r)/β₀\",\n",
    "    x_range=[r[0], r[-1]],\n",
    "    y_range=[0, beta.max()],\n",
    ")\n",
    "p.line(\n",
    "    [r[0], r[-1]],\n",
    "    [alpha_0, alpha_0],\n",
    "    line_width=2,\n",
    "    color=\"orange\",\n",
    "    legend_label=\"basal (leaky) expression, α₀/β₀\",\n",
    ")\n",
    "p.line(r, beta, line_width=2, legend_label=\"β(r)/β₀\")\n",
    "p.legend.click_policy = \"hide\"\n",
    "p.legend[0].items = p.legend[0].items[::-1]\n",
    "\n",
    "bokeh.io.show(p)"
   ]
  },
  {
   "cell_type": "markdown",
   "metadata": {},
   "source": [
    "## Activators enable positive regulation\n",
    "\n",
    "Genes can be positively regulated by **activators** as well as negatively regulated by repressors. Treating the case of activation just involves switching the state that is actively expressing from the unbound state to the state where the promoter region is bound by the protein (now called an activator). And, just as small molecule inputs can modulate the binding of a repressor to DNA, so too can they modulate the binding of the activator. In bacteria, one of many examples is the [Lux-type quorum sensing system](https://en.wikipedia.org/wiki/LuxR-type_DNA-binding_HTH_domain), where the transcription factor LuxR acts as an activator in the presence of its cognate ligand, a signaling molecule produced by cells.\n",
    "\n",
    "<div style=\"width: 400px; margin: auto;\">\n",
    "\n",
    "![](activation.png)\n",
    "\n",
    "</div>\n",
    "\n",
    "<br />\n",
    "\n",
    "By assuming production in the activator-bound state, we obtain the rate of production of gene product as a function of activator concentration, $a$:\n",
    "\n",
    "\\begin{align}\n",
    "\\beta(a) = \\beta_0 \\frac{p_\\mathrm{bound}}{p_\\mathrm{tot}} = \\beta_0\\,\\frac{a/K_\\mathrm{d}}{1+a/K_\\mathrm{d}}.\n",
    "\\end{align}\n",
    "\n",
    "This produces the opposite, mirror image response compared to repression, shown below with no leakage."
   ]
  },
  {
   "cell_type": "code",
   "execution_count": null,
   "metadata": {
    "tags": [
     "hide-input"
    ]
   },
   "outputs": [
    {
     "data": {
      "text/html": [
       "\n",
       "  <div id=\"b294812d-c976-468d-9f46-bf2264b17ff6\" data-root-id=\"p1401\" style=\"display: contents;\"></div>\n"
      ]
     },
     "metadata": {},
     "output_type": "display_data"
    },
    {
     "data": {
      "application/javascript": "(function(root) {\n  function embed_document(root) {\n  const docs_json = {\"11756195-cd4e-497e-9a95-fb668f6bdd16\":{\"version\":\"3.1.0\",\"title\":\"Bokeh Application\",\"defs\":[],\"roots\":[{\"type\":\"object\",\"name\":\"Figure\",\"id\":\"p1401\",\"attributes\":{\"x_range\":{\"type\":\"object\",\"name\":\"Range1d\",\"id\":\"p1410\",\"attributes\":{\"end\":20.0}},\"y_range\":{\"type\":\"object\",\"name\":\"Range1d\",\"id\":\"p1412\"},\"x_scale\":{\"type\":\"object\",\"name\":\"LinearScale\",\"id\":\"p1414\"},\"y_scale\":{\"type\":\"object\",\"name\":\"LinearScale\",\"id\":\"p1416\"},\"title\":{\"type\":\"object\",\"name\":\"Title\",\"id\":\"p1407\"},\"renderers\":[{\"type\":\"object\",\"name\":\"GlyphRenderer\",\"id\":\"p1453\",\"attributes\":{\"data_source\":{\"type\":\"object\",\"name\":\"ColumnDataSource\",\"id\":\"p1447\",\"attributes\":{\"selected\":{\"type\":\"object\",\"name\":\"Selection\",\"id\":\"p1449\",\"attributes\":{\"indices\":[],\"line_indices\":[]}},\"selection_policy\":{\"type\":\"object\",\"name\":\"UnionRenderers\",\"id\":\"p1448\"},\"data\":{\"type\":\"map\",\"entries\":[[\"x\",{\"type\":\"ndarray\",\"array\":{\"type\":\"bytes\",\"data\":\"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\"},\"shape\":[200],\"dtype\":\"float64\",\"order\":\"little\"}],[\"y\",{\"type\":\"ndarray\",\"array\":{\"type\":\"bytes\",\"data\":\"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\"},\"shape\":[200],\"dtype\":\"float64\",\"order\":\"little\"}]]}}},\"view\":{\"type\":\"object\",\"name\":\"CDSView\",\"id\":\"p1454\",\"attributes\":{\"filter\":{\"type\":\"object\",\"name\":\"AllIndices\",\"id\":\"p1455\"}}},\"glyph\":{\"type\":\"object\",\"name\":\"Line\",\"id\":\"p1450\",\"attributes\":{\"x\":{\"type\":\"field\",\"field\":\"x\"},\"y\":{\"type\":\"field\",\"field\":\"y\"},\"line_color\":\"#1f77b4\",\"line_width\":2}},\"nonselection_glyph\":{\"type\":\"object\",\"name\":\"Line\",\"id\":\"p1451\",\"attributes\":{\"x\":{\"type\":\"field\",\"field\":\"x\"},\"y\":{\"type\":\"field\",\"field\":\"y\"},\"line_color\":\"#1f77b4\",\"line_alpha\":0.1,\"line_width\":2}},\"muted_glyph\":{\"type\":\"object\",\"name\":\"Line\",\"id\":\"p1452\",\"attributes\":{\"x\":{\"type\":\"field\",\"field\":\"x\"},\"y\":{\"type\":\"field\",\"field\":\"y\"},\"line_color\":\"#1f77b4\",\"line_alpha\":0.2,\"line_width\":2}}}},{\"type\":\"object\",\"name\":\"GlyphRenderer\",\"id\":\"p1464\",\"attributes\":{\"data_source\":{\"type\":\"object\",\"name\":\"ColumnDataSource\",\"id\":\"p1458\",\"attributes\":{\"selected\":{\"type\":\"object\",\"name\":\"Selection\",\"id\":\"p1460\",\"attributes\":{\"indices\":[],\"line_indices\":[]}},\"selection_policy\":{\"type\":\"object\",\"name\":\"UnionRenderers\",\"id\":\"p1459\"},\"data\":{\"type\":\"map\",\"entries\":[[\"x\",{\"type\":\"ndarray\",\"array\":{\"type\":\"bytes\",\"data\":\"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\"},\"shape\":[200],\"dtype\":\"float64\",\"order\":\"little\"}],[\"y\",{\"type\":\"ndarray\",\"array\":{\"type\":\"bytes\",\"data\":\"AAAAAAAA8D8+0fdE3xPtP/Dgsjf0pOo/ZIknSD2W6D8pTNsXCtPmPwZrCV8zTOU/GiAosl724z/5jSyH38jiP8Ti7if4vOE/GdRyIlfN4D+4/t36d+vfP02hqCRsZd4/F/Z2bOoC3T8x+GmGTb/bPywS4se2lto/gztEWeaF2T9ldd6bHIrYPy7N8F8Codc/PBMKNpbI1j/V9ZyfHf/VP0/DITcZQ9U/gwn7IzuT1D+T71ZZX+7TP0ISiz6FU9M/0sdidsrB0j+JGOeLZjjSPwzC8VenttE/Ei6J/O070T/egmRarMfQP+2no+piWdA/RBJZ1j3hzz+g8Rmf8RnPP+uJ5NUlXM4/PYLRkzCnzT8KII5od/rMP19nB6JtVcw/dXmUzZK3yz+soQ1qcSDLPz6lq8Odj8o/iry187QEyj/1l/n+W3/JPyiH0g4//8g/dZwrwRCEyD8pEXOMiQ3IP/eC6DRnm8c/ohIQUWwtxz/+WGXbX8PGP/JJrc8MXcY/Lqt/0kH6xT+TiNHh0JrFP3SCcw2PPsU/YSWaNlTlxD+7rKTV+o7EP95xcMVfO8Q/54WdE2Lqwz+XGzzV4pvDPw7xav/ET8M/UDp9Q+0Fwz8H+UruQb7CP7V6WcqqeMI/Sh+TBBE1wj+UwU0TX/PBPxNLZp+As8E/C0o+b2J1wT9/6W1T8jjBP3qJARUf/sA/GIEeZdjEwD8mXu7NDo3AP6BQs6SzVsA/5Wjr/LghwD/J5NU4I9y/P9IYseBhd78/jnHvBRYVvz8U6GDkKLW+P0EoiM2EV74/PUxCGBX8vT+gsJIRxqK9P+Nce+6ES70/GKDMvj/2vD9cbdhg5aK8Pxu/93VlUbw/n9bRV7ABvD8QllYOt7O7P853XkZrZ7s/OczjSL8cuz8r8cnypdO6P3wnKK0SjLo/34UOZvlFuj/tTryJTgG6P+6kP/wGvrk/RDp3Exh8uT8ZM2+Rdzu5P1P1Ep8b/Lg/kyAux/q9uD+EWbfxC4G4Pxj8X19GRbg/JCdkpaEKuD9L65apFdG3P9e2pp6amLc/g2GWAClhtz+LfmeRuSq3Px/Z8lVF9bY/QDjsksXAtj9wuw7KM422P6lRb7eJWrY/w/jyTsEotj8YnOa51Pe1P2CPtlS+x7U/ZsXDrHiYtT+wAlV+/mm1PxJqorJKPLU/p9z5XVgPtT9/wPq9IuO0P9vY5zelt7Q/7PANV9uMtD+CLj7LwGK0P+z0WmdRObQ/ElL2H4kQtD8ZAAEKZOizPyQViVnewLM/A4mHYPSZsz++xbuNonOzP1GElGvlTbM/VUIln7kosz8WqCfnGwSzP39ACBsJ4LI/vO39KX68sj/5jSsaeJmyP/5Lywf0drI/3B5jJO9Usj8cAwK2ZjOyP4B+hRZYErI/rgXnssDxsT/u4JAKntGxP68yuq7tsbE/qcfJQa2SsT86Xb922nOxPz4PoxBzVbE/0qL64XQ3sT93Z0TM3RmxP9Brd7+r/LA/w8aIudzfsD8SufXFbsOwP6JuUv1fp7A/qCndhK6LsD+jpBWOWHCwP8p6WFZcVbA/4Wh+Jrg6sD/qOn9SaiCwPzM9GDlxBrA/4hLshpbZrz/qFMPJ7aavP/El4DTldK8/Ssts1XlDrz9+HP3KqBKvP4XaAEdv4q4/y7E5jMqyrj96bzbut4OuP0D10tA0Va4/Kbm8pz4nrj+zofv10vmtP2YQf03vzK0/P++uTpGgrT+SlwCotnStP3lqjxVdSa0/P/W4YIIerT9qfbxfJPSsPyPSXfVAyqw/0EGLENagrD+jlAas4XesP9ztEM5hT6w/MXcZiFQnrD+0um72t/+rPxuR8j+K2Ks/KovQlcmxqz9SvjYzdIurP1/dEF2IZas/XIfFYQRAqz9mt/WY5hqrP3BBPmMt9qo/cEj7KdfRqj+Vmw1f4q2qP6jooXxNiqo/prL5BBdnqj8r/DWCPUSqPymWI4a/Iao/uAMJqpv/qT/V5HWO0N2pP/rZE9tcvKk/i9N4Pj+bqT8swPptdnqpP+uNhCUBWqk/V3JsJ945qT9vbks8DBqpP2MD1jKK+qg/3Q2231bbqD+/vWUdcbyoP8CgC8zXnag/oLZX0Yl/qD8YhmEYhmGoPw==\"},\"shape\":[200],\"dtype\":\"float64\",\"order\":\"little\"}]]}}},\"view\":{\"type\":\"object\",\"name\":\"CDSView\",\"id\":\"p1465\",\"attributes\":{\"filter\":{\"type\":\"object\",\"name\":\"AllIndices\",\"id\":\"p1466\"}}},\"glyph\":{\"type\":\"object\",\"name\":\"Line\",\"id\":\"p1461\",\"attributes\":{\"x\":{\"type\":\"field\",\"field\":\"x\"},\"y\":{\"type\":\"field\",\"field\":\"y\"},\"line_color\":\"tomato\",\"line_width\":2}},\"nonselection_glyph\":{\"type\":\"object\",\"name\":\"Line\",\"id\":\"p1462\",\"attributes\":{\"x\":{\"type\":\"field\",\"field\":\"x\"},\"y\":{\"type\":\"field\",\"field\":\"y\"},\"line_color\":\"tomato\",\"line_alpha\":0.1,\"line_width\":2}},\"muted_glyph\":{\"type\":\"object\",\"name\":\"Line\",\"id\":\"p1463\",\"attributes\":{\"x\":{\"type\":\"field\",\"field\":\"x\"},\"y\":{\"type\":\"field\",\"field\":\"y\"},\"line_color\":\"tomato\",\"line_alpha\":0.2,\"line_width\":2}}}}],\"toolbar\":{\"type\":\"object\",\"name\":\"Toolbar\",\"id\":\"p1408\",\"attributes\":{\"tools\":[{\"type\":\"object\",\"name\":\"PanTool\",\"id\":\"p1432\"},{\"type\":\"object\",\"name\":\"WheelZoomTool\",\"id\":\"p1433\"},{\"type\":\"object\",\"name\":\"BoxZoomTool\",\"id\":\"p1434\",\"attributes\":{\"overlay\":{\"type\":\"object\",\"name\":\"BoxAnnotation\",\"id\":\"p1435\",\"attributes\":{\"syncable\":false,\"level\":\"overlay\",\"visible\":false,\"left_units\":\"canvas\",\"right_units\":\"canvas\",\"bottom_units\":\"canvas\",\"top_units\":\"canvas\",\"line_color\":\"black\",\"line_alpha\":1.0,\"line_width\":2,\"line_dash\":[4,4],\"fill_color\":\"lightgrey\",\"fill_alpha\":0.5}}}},{\"type\":\"object\",\"name\":\"SaveTool\",\"id\":\"p1436\"},{\"type\":\"object\",\"name\":\"ResetTool\",\"id\":\"p1437\"},{\"type\":\"object\",\"name\":\"HelpTool\",\"id\":\"p1438\"}]}},\"left\":[{\"type\":\"object\",\"name\":\"LinearAxis\",\"id\":\"p1425\",\"attributes\":{\"ticker\":{\"type\":\"object\",\"name\":\"BasicTicker\",\"id\":\"p1426\",\"attributes\":{\"mantissas\":[1,2,5]}},\"formatter\":{\"type\":\"object\",\"name\":\"BasicTickFormatter\",\"id\":\"p1428\"},\"axis_label\":\"\\u03b2 \\u2215 \\u03b2\\u2080\",\"major_label_policy\":{\"type\":\"object\",\"name\":\"AllLabels\",\"id\":\"p1427\"}}}],\"below\":[{\"type\":\"object\",\"name\":\"LinearAxis\",\"id\":\"p1418\",\"attributes\":{\"ticker\":{\"type\":\"object\",\"name\":\"BasicTicker\",\"id\":\"p1419\",\"attributes\":{\"mantissas\":[1,2,5]}},\"formatter\":{\"type\":\"object\",\"name\":\"BasicTickFormatter\",\"id\":\"p1421\"},\"axis_label\":\"a/Kd, r/Kd\",\"major_label_policy\":{\"type\":\"object\",\"name\":\"AllLabels\",\"id\":\"p1420\"}}}],\"center\":[{\"type\":\"object\",\"name\":\"Grid\",\"id\":\"p1424\",\"attributes\":{\"axis\":{\"id\":\"p1418\"}}},{\"type\":\"object\",\"name\":\"Grid\",\"id\":\"p1431\",\"attributes\":{\"dimension\":1,\"axis\":{\"id\":\"p1425\"}}},{\"type\":\"object\",\"name\":\"Legend\",\"id\":\"p1456\",\"attributes\":{\"location\":\"center_right\",\"items\":[{\"type\":\"object\",\"name\":\"LegendItem\",\"id\":\"p1457\",\"attributes\":{\"label\":{\"type\":\"value\",\"value\":\"\\u03b2(a)/\\u03b2\\u2080\"},\"renderers\":[{\"id\":\"p1453\"}]}},{\"type\":\"object\",\"name\":\"LegendItem\",\"id\":\"p1467\",\"attributes\":{\"label\":{\"type\":\"value\",\"value\":\"\\u03b2(r)/\\u03b2\\u2080\"},\"renderers\":[{\"id\":\"p1464\"}]}}]}}],\"frame_width\":350,\"frame_height\":225,\"output_backend\":\"svg\"}}],\"callbacks\":{\"type\":\"map\"}}};\n  const render_items = [{\"docid\":\"11756195-cd4e-497e-9a95-fb668f6bdd16\",\"roots\":{\"p1401\":\"b294812d-c976-468d-9f46-bf2264b17ff6\"},\"root_ids\":[\"p1401\"]}];\n  root.Bokeh.embed.embed_items_notebook(docs_json, render_items);\n  }\n  if (root.Bokeh !== undefined) {\n    embed_document(root);\n  } else {\n    let attempts = 0;\n    const timer = setInterval(function(root) {\n      if (root.Bokeh !== undefined) {\n        clearInterval(timer);\n        embed_document(root);\n      } else {\n        attempts++;\n        if (attempts > 100) {\n          clearInterval(timer);\n          console.log(\"Bokeh: ERROR: Unable to run BokehJS code because BokehJS library is missing\");\n        }\n      }\n    }, 10, root)\n  }\n})(window);",
      "application/vnd.bokehjs_exec.v0+json": ""
     },
     "metadata": {
      "application/vnd.bokehjs_exec.v0+json": {
       "id": "p1401"
      }
     },
     "output_type": "display_data"
    }
   ],
   "source": [
    "a = np.linspace(0, 20, 200)\n",
    "beta_A = a / (1 + a)\n",
    "beta_R = 1 / (1 + r)\n",
    "\n",
    "# Build plot\n",
    "p = bokeh.plotting.figure(\n",
    "    frame_height=225,\n",
    "    frame_width=350,\n",
    "    x_axis_label=\"a/Kd, r/Kd\",\n",
    "    y_axis_label=\"β ∕ β₀\",\n",
    "    x_range=[r[0], r[-1]],\n",
    "    y_range=[0, 1],\n",
    ")\n",
    "\n",
    "p.line(a, beta_A, line_width=2, legend_label=\"β(a)/β₀\")\n",
    "p.line(r, beta_R, line_width=2, color=\"tomato\", legend_label=\"β(r)/β₀\")\n",
    "p.legend.location = \"center_right\"\n",
    "\n",
    "p.output_backend = 'svg'\n",
    "\n",
    "bokeh.io.show(p)"
   ]
  },
  {
   "cell_type": "markdown",
   "metadata": {},
   "source": [
    "## Hill functions enable analysis of ultrasensitivity\n",
    "\n",
    "While the activating and repressing functions we derive above indeed capture the behavior of this simple model of transcriptional regulation, in practice we find that many responses in gene regulation and protein-protein interactions have a more switch-like, or **ultrasensitive**, shape. Ultrasensitivity can arise from many sources. One important source is **cooperativity** in molecular interactions. For example,  binding of a protein at one DNA binding site can increase the affinity for binding of a second protein at an adjacent site. Or, imagine a protein with an alternative molecular conformation that is stabilized by binding of multiple agonist effector molecules and, in that conformation, has a higher affinity for the same effectors. In these and many other situations, an increasing concentration of one species can have little effect for a while, and then suddenly have a large effect. (See Rob Phillips's book, [The Molecular Switch: Signaling and Allostery](https://doi.org/10.2307/j.ctvx5w8pf) for an engaging and rigorous discussion of these mechanisms.)\n",
    "\n",
    "The Hill function provides a phenomenological way to analyze systems that exhibit ultrasensitive responses. While it can be derived from models of some processes, it is often introduced independently of any specific underlying reaction to analyze how different levels of ultrasensitivity in one process would impact the behavior of the larger circuit.\n",
    "\n",
    "An activating Hill function is defined by \n",
    "\n",
    "\\begin{align}\n",
    "f_\\mathrm{act}(x) &= \\frac{x^n}{k^n +x^n} = \\frac{(x/k)^n}{1 + (x/k)^n}.\n",
    "\\end{align}\n",
    "\n",
    "The mirror image repressive Hill function is similarly defined as \n",
    "\n",
    "\\begin{align}\n",
    "f_\\mathrm{rep}(x) &= \\frac{k^n}{k^n +x^n} = \\frac{1}{1 + (x/k)^n}.\n",
    "\\end{align}\n",
    "\n",
    "In these expressions, $k$ represents the concentration at which the function attains half its maximal value and is referred to as the **Hill activation constant**. It is a measure of the characteristic concentration of $x$ that is necessary to achieve strong regulation. The **Hill coefficient**, $n$, parametrizes how ultrasensitive the response is. When $n=1$, we recover the simple binding curves introduced above. When $n>1$, however, we achieve ever sharper, more ultrasensitive, responses. In the limit of $n=\\infty$ the Hill function becomes a perfect step function. \n",
    "\n",
    "The production rate of the products of genes under control of an activator and repressor, respectively, operating with ultrasensitivity modeled with Hill function is\n",
    "\n",
    "\\begin{align}\n",
    "&\\beta(a) = \\beta_0\\,f_\\mathrm{act}(a) = \\beta_0 \\,\\frac{(a/k)^n}{1 + (a/k)^n},\\\\[1em]\n",
    "&\\beta(r) = \\beta_0\\,f_\\mathrm{rep}(r) = \\beta_0 \\,\\frac{1}{1 + (r/k)^n}.\n",
    "\\end{align}\n",
    "\n",
    "Going forward, we will drop the naught subscripts on $\\beta$ (and also on $\\alpha$) for notational brevity and will write expressions like\n",
    "\n",
    "\\begin{align}\n",
    "&\\text{activator-modulated production rate} = \\beta \\,\\frac{(a/k)^n}{1 + (a/k)^n},\\\\[1em]\n",
    "&\\text{repressor-modulated production rate} = \\beta \\,\\frac{1}{1 + (r/k)^n}.\n",
    "\\end{align}\n",
    "\n",
    "\n",
    "To help visualize Hill functions, we plot them below for a various degrees of ultrasensitivity, with activating Hill functions in blue and repressing Hill functions in red."
   ]
  },
  {
   "cell_type": "code",
   "execution_count": null,
   "metadata": {
    "tags": [
     "hide-input"
    ]
   },
   "outputs": [
    {
     "ename": "",
     "evalue": "",
     "output_type": "error",
     "traceback": [
      "\u001b[1;31mRunning cells with '/bin/python3' requires the ipykernel package.\n",
      "\u001b[1;31mRun the following command to install 'ipykernel' into the Python environment. \n",
      "\u001b[1;31mCommand: '/bin/python3 -m pip install ipykernel -U --user --force-reinstall'"
     ]
    }
   ],
   "source": [
    "# Values of Hill coefficient\n",
    "n_vals = [1, 2, 10, 25, np.inf]\n",
    "\n",
    "# Compute activator response\n",
    "x = np.concatenate((np.linspace(0, 1, 200), np.linspace(1, 4, 200)))\n",
    "x_log = np.concatenate((np.logspace(-2, 0, 200), np.logspace(0, 2, 200)))\n",
    "\n",
    "f_a = []\n",
    "f_a_log = []\n",
    "for n in n_vals:\n",
    "    if n == np.inf:\n",
    "        f_a.append(np.concatenate((np.zeros(200), np.ones(200))))\n",
    "        f_a_log.append(f_a[-1])\n",
    "    else:\n",
    "        f_a.append(x ** n / (1 + x ** n))\n",
    "        f_a_log.append(x_log ** n / (1 + x_log ** n))\n",
    "\n",
    "# Repressor response\n",
    "f_r = [1 - f for f in f_a]\n",
    "f_r_log = [1 - f for f in f_a_log]\n",
    "\n",
    "# Build plots\n",
    "p_act = bokeh.plotting.figure(\n",
    "    frame_height=225,\n",
    "    frame_width=350,\n",
    "    x_axis_label=\"x/k\",\n",
    "    y_axis_label=\"activating Hill function\",\n",
    "    x_range=[x[0], x[-1]],\n",
    ")\n",
    "p_rep = bokeh.plotting.figure(\n",
    "    frame_height=225,\n",
    "    frame_width=350,\n",
    "    x_axis_label=\"x/k\",\n",
    "    y_axis_label=\"repressing Hill function\",\n",
    "    x_range=[x[0], x[-1]],\n",
    ")\n",
    "\n",
    "p_act_log = bokeh.plotting.figure(\n",
    "    frame_height=225,\n",
    "    frame_width=350,\n",
    "    x_axis_label=\"x/k\",\n",
    "    y_axis_label=\"activating Hill function\",\n",
    "    x_range=[x_log[0], x_log[-1]],\n",
    "    x_axis_type=\"log\",\n",
    ")\n",
    "p_rep_log = bokeh.plotting.figure(\n",
    "    frame_height=225,\n",
    "    frame_width=350,\n",
    "    x_axis_label=\"x/k\",\n",
    "    y_axis_label=\"repressing Hill function\",\n",
    "    x_range=[x_log[0], x_log[-1]],\n",
    "    x_axis_type=\"log\",\n",
    ")\n",
    "\n",
    "# Set up toggling between activating and repressing and log/linear\n",
    "p_act.visible = True\n",
    "p_rep.visible = False\n",
    "p_act_log.visible = False\n",
    "p_rep_log.visible = False\n",
    "\n",
    "radio_button_group_ar = bokeh.models.RadioButtonGroup(\n",
    "    labels=[\"activating\", \"repressing\"], active=0, width=150\n",
    ")\n",
    "radio_button_group_log = bokeh.models.RadioButtonGroup(\n",
    "    labels=[\"linear\", \"log\"], active=0, width=100\n",
    ")\n",
    "\n",
    "col = bokeh.layouts.column(\n",
    "    p_act,\n",
    "    p_rep,\n",
    "    p_act_log,\n",
    "    p_rep_log,\n",
    "    bokeh.models.Spacer(height=10),\n",
    "    bokeh.layouts.row(\n",
    "        bokeh.models.Spacer(width=55),\n",
    "        radio_button_group_ar,\n",
    "        bokeh.models.Spacer(width=75),\n",
    "        radio_button_group_log,\n",
    "    ),\n",
    ")\n",
    "\n",
    "radio_button_group_ar.js_on_change(\n",
    "    \"active\",\n",
    "    bokeh.models.CustomJS(\n",
    "        args=dict(\n",
    "            radio_button_group_log=radio_button_group_log,\n",
    "            p_act=p_act,\n",
    "            p_rep=p_rep,\n",
    "            p_act_log=p_act_log,\n",
    "            p_rep_log=p_rep_log,\n",
    "        ),\n",
    "        code=\"\"\"\n",
    "if (radio_button_group_log.active == 0) {\n",
    "    if (p_act.visible == true) {\n",
    "        p_act.visible = false;\n",
    "        p_rep.visible = true;\n",
    "    }\n",
    "    else {\n",
    "        p_act.visible = true;\n",
    "        p_rep.visible = false;\n",
    "    }\n",
    "}\n",
    "else {\n",
    "    if (p_act_log.visible == true) {\n",
    "        p_act_log.visible = false;\n",
    "        p_rep_log.visible = true;\n",
    "    }\n",
    "    else {\n",
    "        p_act_log.visible = true;\n",
    "        p_rep_log.visible = false;\n",
    "    }\n",
    "}\n",
    "\"\"\",\n",
    "    ),\n",
    ")\n",
    "\n",
    "radio_button_group_log.js_on_change(\n",
    "    \"active\",\n",
    "    bokeh.models.CustomJS(\n",
    "        args=dict(\n",
    "            radio_button_group_ar=radio_button_group_ar,\n",
    "            p_act=p_act,\n",
    "            p_rep=p_rep,\n",
    "            p_act_log=p_act_log,\n",
    "            p_rep_log=p_rep_log,\n",
    "        ),\n",
    "        code=\"\"\"\n",
    "if (radio_button_group_ar.active == 0) {\n",
    "    if (p_act_log.visible == true) {\n",
    "        p_act_log.visible = false;\n",
    "        p_act.visible = true;\n",
    "    }\n",
    "    else {\n",
    "        p_act_log.visible = true;\n",
    "        p_act.visible = false;\n",
    "    }\n",
    "}\n",
    "else {\n",
    "    if (p_rep_log.visible == true) {\n",
    "        p_rep_log.visible = false;\n",
    "        p_rep.visible = true;\n",
    "    }\n",
    "    else {\n",
    "        p_rep_log.visible = true;\n",
    "        p_rep.visible = false;\n",
    "    }\n",
    "}\n",
    "\"\"\",\n",
    "    ),\n",
    ")\n",
    "\n",
    "# Color scheme for plots\n",
    "colors_act = bokeh.palettes.Blues256[32:-32][:: -192 // (len(n_vals) + 1)]\n",
    "colors_rep = bokeh.palettes.Reds256[32:-32][:: -192 // (len(n_vals) + 1)]\n",
    "\n",
    "# Populate glyphs\n",
    "for i, n in enumerate(n_vals):\n",
    "    legend_label = \"n → ∞\" if n == np.inf else f\"n = {n}\"\n",
    "    p_act.line(x, f_a[i], line_width=2, color=colors_act[i], legend_label=legend_label)\n",
    "    p_rep.line(x, f_r[i], line_width=2, color=colors_rep[i], legend_label=legend_label)\n",
    "    p_act_log.line(\n",
    "        x_log, f_a_log[i], line_width=2, color=colors_act[i], legend_label=legend_label\n",
    "    )\n",
    "    p_rep_log.line(\n",
    "        x_log, f_r_log[i], line_width=2, color=colors_rep[i], legend_label=legend_label\n",
    "    )\n",
    "\n",
    "# Reposition legends\n",
    "p_act.legend.location = \"bottom_right\"\n",
    "p_act_log.legend.location = \"bottom_right\"\n",
    "\n",
    "bokeh.io.show(col)"
   ]
  },
  {
   "cell_type": "markdown",
   "metadata": {},
   "source": [
    "## When should a circuit use an activator and when should it use a repressor?\n",
    "\n",
    "*And now at least we have reached a true **design puzzle:** We could design gene regulation systems that turn on in the presence of a specific molecular signal (we will call this the **inducer**) in two, seemingly equivalent, ways. The gene could be regulated by an activator whose activity is turned on by the inducer (see left figure below), or alternatively, it could be regulated by a repressor whose activity is inhibited by the inducer (see right figure below). \n",
    "\n",
    "Which should it choose? Are they completely equivalent? Or is there a reason to prefer one mode or another in any given context? How could we know? Which would you choose if you were designing a synthetic circuit of this type? \n",
    "\n",
    "<div style=\"width: 350px; margin: auto;\">\n",
    "\n",
    "![equivalent systems](equivalent_systems.png)\n",
    "\n",
    "</div>\n",
    "\n",
    "Michael Savageau posed this question in the context of bacterial metabolic gene regulation ([Savageau, 1977](https://doi.org/10.1073/pnas.74.12.5647)). He identified \"demand\" for a gene product as a critical factor that influences the choice of activation or repression. *Demand* can be defined as the fraction of time that the gene is needed at the high end of its expression range in the cells natural environments. Savageau made the empirical observation that high-demand genes are more frequently regulated by activators, while low-demand genes are more often regulated by repressors. \n",
    "\n",
    "<div style=\"width: 500px; margin: auto;\">\n",
    "\n",
    "![low demand, high demand](low_demand-high_demand3.png)\n",
    "\n",
    "</div>\n",
    "\n",
    "Savageau suggested that this relationship could be explained by a **\"use it or lose it\"** rule of evolutionary selection. In bacteria, mutations appear frequently enough ($10^{-10}$ - $10^{-9}$ per bp per replication cycle) that virtually any mutation is present within a colony. Under these conditions, a regulatory system that is unnecessary would not be retained by selection. A high demand gene controlled by an activator requires the activator to be expressed most of the time. Under these conditions, he argued, evolution would select against mutations that eliminate the activator. By contrast, if the same high demand system were regulated by a repressor, then most of the time, there would be weaker selection against mutations that removed the repressor, increasing the potential for evolutionary loss of the regulatory system. This reasoning assumes no direct fitness advantage for either regulation mode, just a difference in the average strength of selection pressure needed to maintain the two systems, and qualitatively agrees with the observed correlation between demand type of regulation.\n",
    "\n",
    "In 2009, [Gerland and Hwa](https://doi.org/10.1073%2Fpnas.0808500106) formulated and analyzed a mathematical model to explore how the demand rule depends on population size and the temporal durations of the low and high demand environments.  They showed that the \"use it or lose it\" principle indeed dominates when timescales of switching between low and high demand environments are long, and populations are small. However, they also pointed out that the opposite, more intuitive, demand rule (which they term \"wear and tear\") could be selected in other regimes, when accumulated mutations in the regulatory system diminish the function for the more prevalent behavior.\n",
    "\n",
    "In between, [Shinar, et al.](https://doi.org/10.1073/pnas.0506610103) introduced a completely different explanation for the demand rule. They noted that transcription factors are never perfectly specific for their cognate DNA binding sites. Rather, they bind to non-specific DNA sites with lower, but non-zero, affinities. While individually weak, the effects of many such non-specific interactions could, collectively, be significant. They therefore suggested that \"naked\" DNA binding sites not bound to proteins are intrinsically more susceptible to inappropriate, non-specific binding of other transcription factors, potentially leading to erroneous gene expression. These expression \"errors\" impose non-zero fitness cost. Cells can minimize that cost by keeping sites occupied most of the time. \n",
    "\n",
    "This explanation make the same qualitative predictions as Savageau's explanation but for different reasons. Here, a high demand gene should preferentially use an activator since this arrangement minimizes unoccupied binding sites more of the time. Conversely, a low demand gene would preferentially use repression to maintain the binding site in a bound state under most conditions. This argument can be generalized to other examples of seemingly equivalent regulatory systems and is described in [Alon's _Introduction to Systems Biology_](https://doi.org/10.1201/9780429283321). \n",
    "\n",
    "<div style=\"width: 400px; margin: auto;\">\n",
    "\n",
    "![Error load](ErrorLoad2022.png)\n",
    "\n",
    "</div>\n",
    "\n",
    "*In this figure, an activator, denoted A binds strongly and specifically to its target site. In the absence of the activator, that site could also be bound non-specifically, and inappropriately by a range of other factors, denoted B-E.*\n",
    "\n",
    "Remarkably, despite all of this beautiful work, we still lack definitive experimental evidence to fully resolve this fundamental design question. As a challenge in the end-of-chapter problems, you are aked to devise an experimental way to discriminate among these potential explanations."
   ]
  },
  {
   "cell_type": "markdown",
   "metadata": {},
   "source": [
    "<hr>\n",
    "\n",
    "## References\n",
    "\n",
    "- Alon, U., _An Introduction to Systems Biology: Design Principles of Biological Circuits_, 2nd Ed., Chapman and Hall/CRC, 2019. ([link](https://doi.org/10.1201/9780429283321))\n",
    "- Gerland, U. and Hwa, T., Evolutionary selection between alternative modes of gene regulation, _Proc. Natl. Acad. Sci. USA_, 106, 8841–8846, 2009. ([link](https://doi.org/10.1073%2Fpnas.0808500106))\n",
    "- Gunawardena, J., Models in biology: 'accurate descriptions of our pathetic thinking', _BMC Biology_, 12, 29, 2014. ([link](https://doi.org/10.1186/1741-7007-12-29))\n",
    "- Hanahan, D. and Weinberg, R. A., The hallmarks of cancer, _Cell_, 100, 57–70, 2000. ([link](https://doi.org/10.1016/S0092-8674%2800%2981683-9))\n",
    "- Horowitz, P. and Hill, W., _The Art of Electronics, 3rd. Ed._, Cambridge University Press, 2015. ([link](https://artofelectronics.net))\n",
    "- Jacob, F. and Monod, J., On the regulation of gene activity, _Cold Spring Harb. Symp. Quant. Biol._, 26, 193–211, 1961. ([link](https://doi.org/10.1101/SQB.1961.026.01.024))\n",
    "- Judson, H. F., _The Eighth Day of Creation: The Makers of the Revolution in Biology, \n",
    "Commemorative Ed._, Cold Spring Harbor Laboratory Press, 1996. ([link](https://www.cshlpress.com/default.tpl?cart=168039210818884190&fromlink=T&linkaction=full&linksortby=oop_title&--eqSKUdatarq=294))\n",
    "- Müller-Hill, B., _The lac Operon: A Short History of a Genetic Paradigm_, De Gruyter, 1996. ([link](https://doi.org/10.1515/9783110879476))\n",
    "- R. Phillips, _The Molecular Switch: Signaling and Allostery_, Princeton University Press, 2020. ([link](https://doi.org/10.2307/j.ctvx5w8pf))\n",
    "- Savageau, M. A., Design of molecular control mechanisms and the demand for gene expression, _Proc. Natl. Acad. Sci. USA_, 74, 5647–5651, 1977. ([link](https://doi.org/10.1073/pnas.74.12.5647))\n",
    "- Shinar, G., et al., Rules for biological regulation based on error minimization, _Proc. Natl. Acad. Sci. USA_, 103, 3999–4004, 2006. ([link](https://doi.org/10.1073/pnas.0506610103))"
   ]
  },
  {
   "cell_type": "markdown",
   "metadata": {
    "tags": []
   },
   "source": [
    "<hr>\n",
    "\n",
    "## Problems"
   ]
  },
  {
   "cell_type": "markdown",
   "metadata": {
    "nbsphinx-toctree": {
     "maxdepth": 1
    },
    "tags": []
   },
   "source": [
    "- [1.1: Strategies for controlling protein expression](../problems/01/problem_1.1.ipynb)\n",
    "- [1.2: Separation of time scales](../problems/01/problem_1.2.ipynb)\n",
    "- [1.3: Rate of production of gene product by an activator](../problems/01/problem_1.3.ipynb)\n",
    "- [1.4: Activators vs. repressors](../problems/01/problem_1.4.ipynb)\n",
    "- [1.5: Bound and unbound promoter regions](../problems/01/problem_1.5.ipynb)"
   ]
  },
  {
   "cell_type": "markdown",
   "metadata": {
    "tags": [
     "remove_cell"
    ]
   },
   "source": [
    "<hr>\n",
    "\n",
    "## Computing environment\n"
   ]
  },
  {
   "cell_type": "code",
   "execution_count": null,
   "metadata": {
    "tags": [
     "hide-input"
    ]
   },
   "outputs": [
    {
     "name": "stdout",
     "output_type": "stream",
     "text": [
      "Python implementation: CPython\n",
      "Python version       : 3.10.10\n",
      "IPython version      : 8.10.0\n",
      "\n",
      "numpy     : 1.23.5\n",
      "bokeh     : 3.1.0\n",
      "jupyterlab: 3.5.3\n",
      "\n"
     ]
    }
   ],
   "source": [
    "%load_ext watermark\n",
    "%watermark -v -p numpy,bokeh,jupyterlab"
   ]
  }
 ],
 "metadata": {
  "kernelspec": {
   "display_name": "Python 3 (ipykernel)",
   "language": "python",
   "name": "python3"
  },
  "language_info": {
   "codemirror_mode": {
    "name": "ipython",
    "version": 3
   },
   "file_extension": ".py",
   "mimetype": "text/x-python",
   "name": "python",
   "nbconvert_exporter": "python",
   "pygments_lexer": "ipython3",
   "version": "3.9.2"
  },
  "toc": {
   "base_numbering": 1,
   "nav_menu": {},
   "number_sections": true,
   "sideBar": true,
   "skip_h1_title": false,
   "title_cell": "Table of Contents",
   "title_sidebar": "Contents",
   "toc_cell": false,
   "toc_position": {},
   "toc_section_display": true,
   "toc_window_display": false
  },
  "varInspector": {
   "cols": {
    "lenName": 16,
    "lenType": 16,
    "lenVar": 40
   },
   "kernels_config": {
    "python": {
     "delete_cmd_postfix": "",
     "delete_cmd_prefix": "del ",
     "library": "var_list.py",
     "varRefreshCmd": "print(var_dic_list())"
    },
    "r": {
     "delete_cmd_postfix": ") ",
     "delete_cmd_prefix": "rm(",
     "library": "var_list.r",
     "varRefreshCmd": "cat(var_dic_list()) "
    }
   },
   "types_to_exclude": [
    "module",
    "function",
    "builtin_function_or_method",
    "instance",
    "_Feature"
   ],
   "window_display": false
  }
 },
 "nbformat": 4,
 "nbformat_minor": 4
}
