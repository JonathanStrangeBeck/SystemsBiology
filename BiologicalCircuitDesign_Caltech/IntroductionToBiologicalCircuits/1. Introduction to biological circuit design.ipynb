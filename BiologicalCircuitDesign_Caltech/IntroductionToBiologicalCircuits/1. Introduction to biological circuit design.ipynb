{
 "cells": [
  {
   "cell_type": "markdown",
   "metadata": {},
   "source": [
    "Biological circuits can be seperaed into levels. The first are molecular circuits. Molecular circuits consist of molecular species (genes, proteins, etc.) that interact with, and regulate, one another in specific ways. For example, a given gene can be transcribed to produce a corresponding mRNA, which can in turn be translated to produce a specific protein. That protein may be a repressor that turns off expression of a different gene, or even its own gene. Similarly, a protein kinase may phosphorylate a specific target protein, altering its ability to catalyze a reaction or modify another protein. The molecular specificity of these interactions—analogous to wires in electronics—is the key property that enables them to form molecular circuits. Molecular circuits represent a fascinating level of cellular organization, midway between the inanimate chemistry of molecules, and the fully “alive” state of a complete cell.\n",
    "\n",
    "The other level is cell circuits. In this case, cells in different states, of different types, or even from different species signal to one another to control each other’s growth, death, proliferation, and differentiation. The key variables in these circuits are the population sizes and spatial arrangements of each type of cell. For example, in the immune system, different cell types influence each other’s proliferation and differentiation through cytokines and other signals, forming a collection of complex, interconnected cell circuits.\n",
    "\n",
    "The two levels are not independent. The behavior of each cell type within a cell circuit is determined by the structure of its molecular circuits.\n",
    "\n",
    "![](Circuits.png)\n"
   ]
  },
  {
   "cell_type": "markdown",
   "metadata": {},
   "source": [
    "How do biological circuits differ from other types of circuits ? \n",
    "\n",
    "- Natural circuits were not designed by people. They evolved. That means they are not “well-documented” and their function(s) are often unclear.\n",
    "\n",
    "- Even synthetic circuits, which are designed by people, often use evolved components (such as proteins or protein domains) from natural proteins, which we do not fully understand.\n",
    "\n",
    "- Biological circuits use different designs than many human-engineered circuits. For example, in cells, molecular components often appear to exhibit extensive networks of promiscuous interactions (“crosstalk”) among their components, which are typically avoided in electronics, where connections are more limited. As we will see, these promiscuous interactions can provide critical capabilities.\n",
    "\n",
    "- Noise: While electronic circuits can function deterministically, biological circuits function with high levels of stochastic (random) fluctuations, or “noise,” in their own components. Noise is not just a nuisance: some biological circuits take advantage of it to enable behaviors that would not be possible without it!\n",
    "\n",
    "- Electrical systems use positive or negative voltages and currents, allowing for positive or negative effects. By contrast, biological circuits are built out of molecules (or cells) whose concentrations cannot be negative. That means they must use other mechanisms for “inverting” activities.\n",
    "\n",
    "- From a more practical point of view, we have a very limited ability to construct, test, and compare designs. Even with recent developments such as CRISPR, our ability to rapidly and precisely produce cells with well-defined genomes remains limited compared to what is possible in more advanced disciplines. (This situation is rapidly improving!)\n",
    "\n"
   ]
  },
  {
   "cell_type": "markdown",
   "metadata": {},
   "source": [
    "**Design Priniciples of biological circuits:**\n",
    "\n",
    "We will define a circuit design principle as a statement of the form: Circuit feature X enables function Y. Many chapters of the book will explore a design principle. Here are just a few examples:\n",
    "\n",
    "- Negative autoregulation of a transcription factor accelerates its response to a change in input.\n",
    "\n",
    "- A tightly binding inhibitor can threshold the activity of a target protein, enabling ultrasensitive responses.\n",
    "\n",
    "- Positive autoregulation and ultrasensitivity can enable bistability, the ability of a cell to stably exist in two distinct states.\n",
    "\n",
    "- Pulsing a transcription factor on and off at different frequencies (time-based regulation) can enable coordinated regulation of many target genes.\n",
    "\n",
    "- Noise-excitable circuits enable cells to control the probability of transiently differentiating into an alternate state.\n",
    "\n",
    "- Mutual inactivation of receptors and ligands in the same cell enable equivalent cells to signal unidirectionally.\n",
    "\n",
    "- Promiscuous (many-to-many) interactions among ligands and receptors enable cells to selectively respond to specific ligand combinations.\n",
    "\n",
    "- Independent tuning of gene expression burst size and frequency enables cells to control cell-cell heterogeneity in gene expression.\n",
    "\n",
    "- Feedback on morphogen mobility allows tissue patterns to scale with the size of a tissue.\n"
   ]
  },
  {
   "cell_type": "markdown",
   "metadata": {},
   "source": [
    "**Your first circuit: Constitutive Gene Expression**\n",
    "\n",
    "Your first circuit will be a single gene coding for a single protein expressed at a constant level.\n",
    "\n",
    "- How much protein will the gene x produce? We assume that the gene will be transcribed to mRNA and those mRNA molecules will in turn be translated to produce proteins, such that new proteins are produced at a total rate β molecules per unit time. The x protein does not simply accumulate over time. It is also removed both through active degradation as well as dilution as cells grow and divide. For simplicity, we will assume that both processes tend to reduce protein concentrations through a simple first-order process, with a rate constant γ. (The removal rate is proportional to x because it refers to a process in which each protein molecule has a constant rate of removal – the more molecules are present, the more are removed in any given time interval.)\n",
    "\n",
    "- The approach we are taking can be described as “phenomenological modeling.” We do not explicitly represent every underlying molecular step. Instead, we assume those steps give rise to “coarse grained” relationships that we can model in a manner that is independent of many underlying molecular details.  \n",
    "  \n",
    "In this diagram of gene, x, with its protein being produced at a constant rate, and each protein molecule having a constant rate of removal (dashed circle), representing both degradation and dilution:  \n",
    "<img src=\"simplest_protein.png\" alt=\"drawing\" width=\"800\"/>\n",
    "\n",
    "Ordinary differntial equations can be used to describe these dynamics:  \n",
    "\n",
    "\n",
    "\n",
    "\n",
    "1.  $\\frac{dx}{dt} = production - (degradation + dilution)$  \n",
    "2.  $\\frac{dx}{dt} = \\beta - \\gamma x $ \n",
    "3.  Where $\\gamma = \\gamma Dilution + \\gamma Degradation$, $x = Protein Concentration$\n",
    "\n",
    "\n",
    "\n",
    "NOTE: dx/dt is an expression meaning \"the derivative of x with respect to t\". It's the derivative of the function x when using the variable t.\n",
    "\n",
    "- A note on effective degradation rates: When cells are growing, protein is removed through both degradation and dilution. For stable proteins, dilution dominates. For very unstable proteins, whose half-life is much smaller than the cell cycle period, dilution may be negligible. In bacteria, mRNA half-lives (1-10 min, typically) are much shorter than protein half-lives. In eukaryotic cells this is not necessarily true. For example, in mammalian cells, mRNA half-lives can be many hours.\n",
    "\n",
    "- Often, one of the first things we would like to know is the concentration of protein under steady state conditions. To obtain this, we set the time derivative to 0, and solve:\n",
    "\n",
    "4. $\\frac{dx}{dt} = \\beta - \\gamma x = 0 $ \n",
    "5. $ x_{ss} = \\frac{\\beta}{\\gamma}$ \n",
    "\n",
    "- The steady-state protein concentration is proportional to the ratio of production and removal rates. It can be increased either by increasing the production rate or by slowing the removal rate.  \n"
   ]
  },
  {
   "cell_type": "markdown",
   "metadata": {},
   "source": [
    "**Your first circuit: Including transcription and translation Steps**\n",
    "\n",
    "The previous model lacked transcription and translation. Considering the two processes separately can be important in dynamic and stochastic contexts, including some we will encounter later. To do so, we can simply add an additional variable to represent the mRNA concentration, which is now transcribed, translated to protein, and degraded (and diluted), as shown schematically here:\n",
    "\n",
    "\n",
    "<img src=\"transcription_and_translation.png\" alt=\"drawing\" width=\"800\"/> \n",
    "\n",
    "NOTE: I assume there is a mistake in the diagramm, m degradation depends on m not on x.    \n",
    "\n",
    "The differential equations for mRNA(m) and protein(x) concentrations are described as followed:   \n",
    "\n",
    "6. $\\frac{dm}{dt} = \\beta - \\gamma_{m} m $   \n",
    "   \n",
    "7. $\\frac{dx}{dt} = \\beta_{p} m - \\gamma_{p} x $ \n",
    "\n",
    "To determine the steady state mRNA(m) and protein(x) concentrations, we set both time derivatives to 0 and solve. Doing this, we find:\n",
    "\n",
    "8. $ m_{ss} = \\frac{\\beta_{m}}{\\gamma_{m}} $  \n",
    "\n",
    "9.  $ x_{ss} = \\frac{\\beta_{p} m_{ss}}{\\gamma_{p}} = \\frac{\\beta_{p} {\\beta_{m} }}{\\gamma_{p} \\gamma_{m}  } $\n",
    "\n",
    "\n",
    "From this, we see that the steady state protein concentration is proportional to the product of the two synthesis rates and inversely proportional to the product of the two degradation rates.\n",
    "\n",
    "And this gives us our first design question, which you can explore in an end-of-chapter problem: The cell could control protein expression level in at least four different ways. It could modulate any or all of (1) transcription, (2) translation, (3) mRNA degradation, or (4) protein degradation rates, or combinations thereof. Are there tradeoffs between these different options? Are they all used indiscriminately or is one favored in natural contexts?\n",
    "\n",
    "\n",
    "\n"
   ]
  },
  {
   "cell_type": "markdown",
   "metadata": {},
   "source": [
    "**Repressors enable gene regulation**"
   ]
  }
 ],
 "metadata": {
  "language_info": {
   "name": "python"
  },
  "orig_nbformat": 4
 },
 "nbformat": 4,
 "nbformat_minor": 2
}
